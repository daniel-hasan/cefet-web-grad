{
 "cells": [
  {
   "cell_type": "code",
   "execution_count": 1,
   "metadata": {},
   "outputs": [],
   "source": [
    "import os\n",
    "import django\n",
    "os.environ.setdefault(\"DJANGO_SETTINGS_MODULE\", \"primeiro_projeto.settings\")\n",
    "\n",
    "django.setup()"
   ]
  },
  {
   "cell_type": "code",
   "execution_count": 2,
   "metadata": {},
   "outputs": [],
   "source": [
    "from app_projeto.models import Tesouro"
   ]
  },
  {
   "cell_type": "code",
   "execution_count": 4,
   "metadata": {},
   "outputs": [],
   "source": [
    "t1 = Tesouro(nome=\"Moedas de ouro\",quantidade=4, valor=2.4)\n",
    "t1.save()"
   ]
  },
  {
   "cell_type": "code",
   "execution_count": 5,
   "metadata": {},
   "outputs": [],
   "source": [
    "rum = Tesouro.objects.create(nome=\"Barril de rum\",\\\n",
    "                        quantidade=3,valor=343,img_tesouro=\"rum.png\")"
   ]
  },
  {
   "cell_type": "code",
   "execution_count": 6,
   "metadata": {},
   "outputs": [],
   "source": [
    "lista_tesouros = Tesouro.objects.bulk_create([\\\n",
    "                Tesouro(nome=\"Coroa\",quantidade=1,\\\n",
    "                        valor=23.2,img_tesouro=\"coroa.png\"),\\\n",
    "                Tesouro(nome=\"Calice\",quantidade=3,\\\n",
    "                        valor=13.2,img_tesouro=\"calice.png\")\\\n",
    "                        ])"
   ]
  },
  {
   "cell_type": "code",
   "execution_count": 21,
   "metadata": {},
   "outputs": [],
   "source": [
    "cproa_lina,inseriu = Tesouro.objects.get_or_create(nome=\"Coroa Linda\",quantidade=1, valor=23.2)"
   ]
  },
  {
   "cell_type": "code",
   "execution_count": 37,
   "metadata": {},
   "outputs": [
    {
     "data": {
      "text/plain": [
       "[(1, 'Moedas de ouro', 4),\n",
       " (2, 'Barril de rum', 3),\n",
       " (3, 'Coroa', 1),\n",
       " (4, 'Calice', 3),\n",
       " (5, 'Coroa Linda', 1)]"
      ]
     },
     "execution_count": 37,
     "metadata": {},
     "output_type": "execute_result"
    }
   ],
   "source": [
    "list(Tesouro.objects.all().values_list(\"id\",\"nome\",\"quantidade\").distinct())"
   ]
  }
 ],
 "metadata": {
  "kernelspec": {
   "display_name": "Python 3",
   "language": "python",
   "name": "python3"
  },
  "language_info": {
   "codemirror_mode": {
    "name": "ipython",
    "version": 3
   },
   "file_extension": ".py",
   "mimetype": "text/x-python",
   "name": "python",
   "nbconvert_exporter": "python",
   "pygments_lexer": "ipython3",
   "version": "3.6.9"
  }
 },
 "nbformat": 4,
 "nbformat_minor": 2
}
