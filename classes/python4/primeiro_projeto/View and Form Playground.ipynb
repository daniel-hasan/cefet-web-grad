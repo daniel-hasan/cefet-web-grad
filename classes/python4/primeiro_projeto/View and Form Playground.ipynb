{
 "cells": [
  {
   "cell_type": "code",
   "execution_count": 2,
   "metadata": {},
   "outputs": [],
   "source": [
    "import os\n",
    "import django\n",
    "os.environ.setdefault(\"DJANGO_SETTINGS_MODULE\", \"primeiro_projeto.settings\")\n",
    "\n",
    "django.setup()"
   ]
  },
  {
   "cell_type": "code",
   "execution_count": 10,
   "metadata": {},
   "outputs": [],
   "source": [
    "dados_pagina = {\n",
    "                   \"cliente\":{\n",
    "                     \"nome\":\"Alice\",\n",
    "                     \"endereco\":{\"rua\":\"A\",\"numero\":2010,\n",
    "                                 \"bairro\":\"Esperança\",\"Cidade\":\"Belo Horizonte\",\n",
    "                                 \"Estado\":\"MG\"\n",
    "                                 },\n",
    "                      \"telefones\":[\"(31) 555-4444\",\"(31) 999-4444\"]\n",
    "                   }\n",
    "                }"
   ]
  },
  {
   "cell_type": "code",
   "execution_count": 11,
   "metadata": {},
   "outputs": [],
   "source": [
    "from django.template import engines\n",
    "django_engine = engines['django']\n",
    "template = django_engine.from_string(\"Ola {{ cliente.nome }}! Telefone: {{cliente.telefones.0}}\")"
   ]
  },
  {
   "cell_type": "code",
   "execution_count": 12,
   "metadata": {},
   "outputs": [
    {
     "data": {
      "text/plain": [
       "'Ola Alice! Telefone: (31) 555-4444'"
      ]
     },
     "execution_count": 12,
     "metadata": {},
     "output_type": "execute_result"
    }
   ],
   "source": [
    "\n",
    "template.render(dados_pagina)"
   ]
  },
  {
   "cell_type": "code",
   "execution_count": 8,
   "metadata": {},
   "outputs": [
    {
     "data": {
      "text/plain": [
       "'Ola Alice! Tudo bem?'"
      ]
     },
     "execution_count": 8,
     "metadata": {},
     "output_type": "execute_result"
    }
   ],
   "source": [
    "dado = {'name':'Alice'}\n",
    "template.render(dado)"
   ]
  },
  {
   "cell_type": "code",
   "execution_count": 5,
   "metadata": {},
   "outputs": [
    {
     "data": {
      "text/plain": [
       "\"<a href='/articles/10101/'>2003 Posts</a>\""
      ]
     },
     "execution_count": 5,
     "metadata": {},
     "output_type": "execute_result"
    }
   ],
   "source": [
    "from django.template import engines\n",
    "\n",
    "str_template = \"<a href='{% url \\\"articles_per_year\\\" year=10101 %}'>2003 Posts</a>\"\n",
    "\n",
    "django_engine = engines['django']\n",
    "template = django_engine.from_string(str_template)\n",
    "template.render()"
   ]
  },
  {
   "cell_type": "code",
   "execution_count": 6,
   "metadata": {},
   "outputs": [],
   "source": [
    "from django import forms\n",
    "class PessoaForm(forms.Form):\n",
    "    nome = forms.CharField(label='Nome:', max_length=100)\n",
    "    data_nascimento = forms.DateField(label=\"Data Nascimento\")"
   ]
  },
  {
   "cell_type": "code",
   "execution_count": 17,
   "metadata": {},
   "outputs": [
    {
     "data": {
      "text/plain": [
       "3"
      ]
     },
     "execution_count": 17,
     "metadata": {},
     "output_type": "execute_result"
    }
   ],
   "source": [
    "teste_1 = PessoaForm({\"nome\":\"Da\",\"data_nascimento\":\"10/03/2019\"})\n",
    "teste_1.is_valid()\n",
    "teste_1.cleaned_data[\"data_nascimento\"]"
   ]
  },
  {
   "cell_type": "code",
   "execution_count": 3,
   "metadata": {},
   "outputs": [],
   "source": [
    "from app_projeto.models import Pessoa\n",
    "from django import forms\n",
    "\n",
    "    \n",
    "class PessoaForm(forms.ModelForm):\n",
    "    class Meta:\n",
    "        model = Pessoa\n",
    "        fields = ['nome', 'data_nascimento']\n",
    "        labels = {\"data_nascimento\": \"Data de Nascimento\"}"
   ]
  },
  {
   "cell_type": "code",
   "execution_count": 25,
   "metadata": {},
   "outputs": [
    {
     "name": "stdout",
     "output_type": "stream",
     "text": [
      "<li><label for=\"id_nome\">Nome:</label> <input type=\"text\" name=\"nome\" value=\"Hasan\" maxlength=\"100\" required id=\"id_nome\"></li>\n",
      "<li><label for=\"id_data_nascimento\">Data de Nascimento:</label> <input type=\"text\" name=\"data_nascimento\" value=\"1990-02-20\" required id=\"id_data_nascimento\"></li>\n"
     ]
    }
   ],
   "source": [
    "from datetime import datetime\n",
    "hasan = Pessoa(nome=\"hasan\",data_nascimento=datetime.now())\n",
    "hasan.save()\n",
    "dados_recebidos = {\"nome\":\"Hasan\",\"data_nascimento\":\"1990-02-20\"}\n",
    "form = PessoaForm(dados_recebidos,instance=hasan)\n",
    "if form.is_valid():\n",
    "    form.save()\n",
    "print(form.as_ul())\n",
    "hasan = form.instance"
   ]
  },
  {
   "cell_type": "code",
   "execution_count": 24,
   "metadata": {},
   "outputs": [
    {
     "data": {
      "text/plain": [
       "<QuerySet [<Pessoa: Hasan - 1990-02-20>]>"
      ]
     },
     "execution_count": 24,
     "metadata": {},
     "output_type": "execute_result"
    }
   ],
   "source": [
    "Pessoa.objects.all()"
   ]
  },
  {
   "cell_type": "code",
   "execution_count": 33,
   "metadata": {},
   "outputs": [
    {
     "ename": "ValueError",
     "evalue": "month must be in 1..12",
     "output_type": "error",
     "traceback": [
      "\u001b[0;31m---------------------------------------------------------------------------\u001b[0m",
      "\u001b[0;31mValueError\u001b[0m                                Traceback (most recent call last)",
      "\u001b[0;32m<ipython-input-33-aea8277d9949>\u001b[0m in \u001b[0;36m<module>\u001b[0;34m()\u001b[0m\n\u001b[1;32m      1\u001b[0m \u001b[0;32mfrom\u001b[0m \u001b[0mdatetime\u001b[0m \u001b[0;32mimport\u001b[0m \u001b[0mdate\u001b[0m\u001b[0;34m\u001b[0m\u001b[0;34m\u001b[0m\u001b[0m\n\u001b[0;32m----> 2\u001b[0;31m \u001b[0mdate\u001b[0m\u001b[0;34m(\u001b[0m\u001b[0;36m2020\u001b[0m\u001b[0;34m,\u001b[0m\u001b[0;36m0\u001b[0m\u001b[0;34m,\u001b[0m\u001b[0;36m20\u001b[0m\u001b[0;34m)\u001b[0m\u001b[0;34m.\u001b[0m\u001b[0mmonth\u001b[0m\u001b[0;34m\u001b[0m\u001b[0;34m\u001b[0m\u001b[0m\n\u001b[0m",
      "\u001b[0;31mValueError\u001b[0m: month must be in 1..12"
     ]
    }
   ],
   "source": [
    "from datetime import date\n",
    "date(2020,1,20).month"
   ]
  }
 ],
 "metadata": {
  "kernelspec": {
   "display_name": "Python 3",
   "language": "python",
   "name": "python3"
  },
  "language_info": {
   "codemirror_mode": {
    "name": "ipython",
    "version": 3
   },
   "file_extension": ".py",
   "mimetype": "text/x-python",
   "name": "python",
   "nbconvert_exporter": "python",
   "pygments_lexer": "ipython3",
   "version": "3.6.9"
  }
 },
 "nbformat": 4,
 "nbformat_minor": 2
}
