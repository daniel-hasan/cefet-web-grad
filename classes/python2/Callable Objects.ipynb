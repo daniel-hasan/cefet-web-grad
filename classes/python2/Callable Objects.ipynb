{
 "cells": [
  {
   "cell_type": "markdown",
   "metadata": {},
   "source": [
    "Objetivo: queremos calcular o resultado de um polinômio no formato $c_n x_n^n+...+c_1 x_1^1+ c_0^0$. \n",
    "\n",
    "Por exemplo, queremos que seja calculado o resultado do polinomio de grau dois: $3 x^2+ 2x +4$ que, para $x=10$ o resultado será 324. "
   ]
  },
  {
   "cell_type": "code",
   "execution_count": 13,
   "metadata": {},
   "outputs": [],
   "source": [
    "from typing import List\n",
    "class Polinomio:    \n",
    "    def __init__(self, coeficientes:List):\n",
    "        self.coeficientes = coeficientes\n",
    "\n",
    "    def __call__(self, x):\n",
    "        somatorio = 0\n",
    "        for expoente_i,coef_i in enumerate(self.coeficientes):\n",
    "            somatorio += coef_i* x**expoente_i\n",
    "        return somatorio        "
   ]
  },
  {
   "cell_type": "code",
   "execution_count": 14,
   "metadata": {},
   "outputs": [
    {
     "name": "stdout",
     "output_type": "stream",
     "text": [
      "x = 10: 324\n",
      "x = 13: 537\n"
     ]
    }
   ],
   "source": [
    "polinomio_1 = Polinomio([4,2,3])\n",
    "print(f\"x = 10: {polinomio_1(10)}\")\n",
    "print(f\"x = 13: {polinomio_1(13)}\")"
   ]
  }
 ],
 "metadata": {
  "kernelspec": {
   "display_name": "Python 3",
   "language": "python",
   "name": "python3"
  },
  "language_info": {
   "codemirror_mode": {
    "name": "ipython",
    "version": 3
   },
   "file_extension": ".py",
   "mimetype": "text/x-python",
   "name": "python",
   "nbconvert_exporter": "python",
   "pygments_lexer": "ipython3",
   "version": "3.6.9"
  }
 },
 "nbformat": 4,
 "nbformat_minor": 2
}
