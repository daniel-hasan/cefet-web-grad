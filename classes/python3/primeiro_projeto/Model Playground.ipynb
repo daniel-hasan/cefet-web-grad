{
 "cells": [
  {
   "cell_type": "code",
   "execution_count": 1,
   "metadata": {},
   "outputs": [],
   "source": [
    "import os\n",
    "import django\n",
    "os.environ.setdefault(\"DJANGO_SETTINGS_MODULE\", \"primeiro_projeto.settings\")\n",
    "\n",
    "django.setup()"
   ]
  },
  {
   "cell_type": "code",
   "execution_count": 2,
   "metadata": {},
   "outputs": [],
   "source": [
    "from app_projeto.models import Tesouro\n",
    "t1 = Tesouro(nome=\"Moedas de ouro\",quantidade=4,\\\n",
    "              valor=2.4,img_tesouro=\"moedas.png\")\n",
    "t1.save()"
   ]
  },
  {
   "cell_type": "code",
   "execution_count": 4,
   "metadata": {},
   "outputs": [
    {
     "data": {
      "text/plain": [
       "1"
      ]
     },
     "execution_count": 4,
     "metadata": {},
     "output_type": "execute_result"
    }
   ],
   "source": [
    "t1.id"
   ]
  },
  {
   "cell_type": "code",
   "execution_count": 3,
   "metadata": {},
   "outputs": [
    {
     "data": {
      "text/plain": [
       "<Tesouro: Barril de rum quantidade: 3 R$ 343 rum.png>"
      ]
     },
     "execution_count": 3,
     "metadata": {},
     "output_type": "execute_result"
    }
   ],
   "source": [
    "Tesouro.objects.create(nome=\"Barril de rum\",\\\n",
    "                        quantidade=3,valor=343,img_tesouro=\"rum.png\")"
   ]
  },
  {
   "cell_type": "code",
   "execution_count": 74,
   "metadata": {},
   "outputs": [
    {
     "data": {
      "text/plain": [
       "<QuerySet [{'nome': 'Moedas de ouro', 'quantidade': 4}, {'nome': 'Barril de rum', 'quantidade': 3}, {'nome': 'Coroa', 'quantidade': 1}, {'nome': 'Calice', 'quantidade': 3}, {'nome': 'Coroa', 'quantidade': 1}, {'nome': 'Calice', 'quantidade': 3}, {'nome': 'Coroa', 'quantidade': 1}, {'nome': 'Calice', 'quantidade': 3}, {'nome': 'Coroa de ouro', 'quantidade': 1}, {'nome': 'Coroa Linda', 'quantidade': 10}, {'nome': 'Coroa Linda', 'quantidade': 10}, {'nome': 'Coroa Linda', 'quantidade': 10}, {'nome': 'Coroa Linda', 'quantidade': 1}, {'nome': 'Coroa Lindona', 'quantidade': 10}, {'nome': 'Coroa Lindona', 'quantidade': 10}, {'nome': 'Coroa Lindona', 'quantidade': 1}, {'nome': 'Coroa Lindona2 ', 'quantidade': 1}]>"
      ]
     },
     "execution_count": 74,
     "metadata": {},
     "output_type": "execute_result"
    }
   ],
   "source": [
    "Tesouro.objects.all().values(\"nome\",\"quantidade\")"
   ]
  },
  {
   "cell_type": "code",
   "execution_count": 10,
   "metadata": {},
   "outputs": [],
   "source": [
    "lista[0].nome = \"Coroa de ouro\"\n",
    "lista[0].save()"
   ]
  },
  {
   "cell_type": "code",
   "execution_count": 58,
   "metadata": {},
   "outputs": [],
   "source": [
    "t1,inseriu = Tesouro.objects.get_or_create(nome=\"Coroa Lindona2 \",quantidade=1,\\\n",
    "                                  valor=23.2,img_tesouro=\"coroa.png\")"
   ]
  },
  {
   "cell_type": "code",
   "execution_count": 64,
   "metadata": {},
   "outputs": [
    {
     "data": {
      "text/plain": [
       "<QuerySet [<Tesouro: Moedas de ouro quantidade: 4 R$ 2.40 moedas.png>]>"
      ]
     },
     "execution_count": 64,
     "metadata": {},
     "output_type": "execute_result"
    }
   ],
   "source": [
    "Tesouro.objects.exclude(nome__startswith=\"Coroa\").filter(valor__lt = 10)"
   ]
  },
  {
   "cell_type": "code",
   "execution_count": 83,
   "metadata": {},
   "outputs": [
    {
     "data": {
      "text/plain": [
       "{'quantidade__sum': 73}"
      ]
     },
     "execution_count": 83,
     "metadata": {},
     "output_type": "execute_result"
    }
   ],
   "source": [
    "from django.db.models import Sum\n",
    "Tesouro.objects.aggregate(Sum(\"quantidade\"))"
   ]
  },
  {
   "cell_type": "code",
   "execution_count": 85,
   "metadata": {},
   "outputs": [
    {
     "data": {
      "text/plain": [
       "<QuerySet [{'nome': 'Barril de rum', 'quantidade__sum': 3}, {'nome': 'Calice', 'quantidade__sum': 9}, {'nome': 'Coroa', 'quantidade__sum': 3}, {'nome': 'Coroa Linda', 'quantidade__sum': 31}, {'nome': 'Coroa Lindona', 'quantidade__sum': 21}, {'nome': 'Coroa Lindona2 ', 'quantidade__sum': 1}, {'nome': 'Coroa de ouro', 'quantidade__sum': 1}, {'nome': 'Moedas de ouro', 'quantidade__sum': 4}]>"
      ]
     },
     "execution_count": 85,
     "metadata": {},
     "output_type": "execute_result"
    }
   ],
   "source": [
    "Tesouro.objects.values(\"nome\").annotate(Sum(\"quantidade\"))"
   ]
  },
  {
   "cell_type": "code",
   "execution_count": 92,
   "metadata": {},
   "outputs": [],
   "source": [
    "from app_projeto.models import *\n",
    "bloguinho = Blog.objects.create(nome=\"Bloguinho\",sobre=\"Este é um blog\")\n",
    "\n",
    "\n"
   ]
  },
  {
   "cell_type": "code",
   "execution_count": 109,
   "metadata": {},
   "outputs": [],
   "source": [
    "#autores\n",
    "autores = [Author(nome=\"hasan\",email=\"hasan@cefetmg.br\"),\n",
    "                                      Author(nome=\"Alice\",email=\"alice@email.com\"),\n",
    "                                     Author(nome=\"Bob\",email=\"bob@email.com\")]\n",
    "for autor in autores:\n",
    "    autor.save()\n"
   ]
  },
  {
   "cell_type": "code",
   "execution_count": 108,
   "metadata": {},
   "outputs": [],
   "source": []
  },
  {
   "cell_type": "code",
   "execution_count": 110,
   "metadata": {},
   "outputs": [],
   "source": [
    "#posts\n",
    "from datetime import datetime\n",
    "posts = [Post(blog=bloguinho,titulo=\"Meu primeiro post\",rating=10, texto=\"la\",data_publicacao=datetime.now()),\n",
    "        Post(blog=bloguinho,titulo=\"Meu segundo post\",rating=10, texto=\"la2\",data_publicacao=datetime.now()),\n",
    "        Post(blog=bloguinho,titulo=\"Meu terceiro post\",rating=10, texto=\"la3\",data_publicacao=datetime.now()),]\n",
    "\n",
    "for post in posts:\n",
    "    post.save()\n",
    "#vincula os autores aos posts\n",
    "posts[0].autores.add(autores[0])\n",
    "posts[1].autores.add(autores[1])\n",
    "posts[1].autores.add(autores[2])\n",
    "posts[2].autores.add(autores[2])\n",
    "\n",
    "\n"
   ]
  },
  {
   "cell_type": "code",
   "execution_count": 119,
   "metadata": {},
   "outputs": [
    {
     "data": {
      "text/plain": [
       "[{'blog__nome': 'Bloguinho', 'titulo': 'Meu primeiro post'},\n",
       " {'blog__nome': 'Bloguinho', 'titulo': 'Meu segundo post'},\n",
       " {'blog__nome': 'Bloguinho', 'titulo': 'Meu terceiro post'}]"
      ]
     },
     "execution_count": 119,
     "metadata": {},
     "output_type": "execute_result"
    }
   ],
   "source": [
    "#exibe o nome do blog e titulo do post\n",
    "Post.objects.values(\"blog__nome\",\"titulo\")\n"
   ]
  },
  {
   "cell_type": "code",
   "execution_count": 129,
   "metadata": {},
   "outputs": [
    {
     "data": {
      "text/plain": [
       "1"
      ]
     },
     "execution_count": 129,
     "metadata": {},
     "output_type": "execute_result"
    }
   ],
   "source": [
    "#Contabiliza o numero de posts por autor\n",
    "#armazenado em post__count\n",
    "autores = Author.objects.annotate(Count('post'))"
   ]
  }
 ],
 "metadata": {
  "kernelspec": {
   "display_name": "Python 3",
   "language": "python",
   "name": "python3"
  },
  "language_info": {
   "codemirror_mode": {
    "name": "ipython",
    "version": 3
   },
   "file_extension": ".py",
   "mimetype": "text/x-python",
   "name": "python",
   "nbconvert_exporter": "python",
   "pygments_lexer": "ipython3",
   "version": "3.6.9"
  }
 },
 "nbformat": 4,
 "nbformat_minor": 2
}
