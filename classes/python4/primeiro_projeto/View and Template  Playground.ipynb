{
 "cells": [
  {
   "cell_type": "code",
   "execution_count": 1,
   "metadata": {},
   "outputs": [],
   "source": [
    "import os\n",
    "import django\n",
    "os.environ.setdefault(\"DJANGO_SETTINGS_MODULE\", \"primeiro_projeto.settings\")\n",
    "\n",
    "django.setup()"
   ]
  },
  {
   "cell_type": "code",
   "execution_count": 2,
   "metadata": {},
   "outputs": [],
   "source": [
    "from django.template import engines\n",
    "django_engine = engines['django']\n",
    "template = django_engine.from_string(\"Ola {{ name }}!\")\n"
   ]
  },
  {
   "cell_type": "code",
   "execution_count": 5,
   "metadata": {},
   "outputs": [
    {
     "data": {
      "text/plain": [
       "'Ola !'"
      ]
     },
     "execution_count": 5,
     "metadata": {},
     "output_type": "execute_result"
    }
   ],
   "source": [
    "dado = {'nam':'Daniel'}\n",
    "template.render(dado)"
   ]
  },
  {
   "cell_type": "code",
   "execution_count": 11,
   "metadata": {},
   "outputs": [],
   "source": [
    "from django.template import engines\n",
    "django_engine = engines['django']\n",
    "\n",
    "template = django_engine.from_string(\"Ola {{ cliente.nome }}! Telefone: {{cliente.telefone.0}}\")\n"
   ]
  },
  {
   "cell_type": "code",
   "execution_count": 12,
   "metadata": {},
   "outputs": [
    {
     "data": {
      "text/plain": [
       "'Ola Bob! Telefone: '"
      ]
     },
     "execution_count": 12,
     "metadata": {},
     "output_type": "execute_result"
    }
   ],
   "source": [
    "dados_pagina = {\n",
    "                   \"cliente\":{\n",
    "                                     \"nome\":\"Bob\",\n",
    "                                     \"endereco\":{\"rua\":\"A\",\"numero\":2010,\n",
    "                                                 \"bairro\":\"Esperança\",\"Cidade\":\"Belo Horizonte\",\n",
    "                                                 \"Estado\":\"MG\"\n",
    "                                                 },\n",
    "                                      \"telefones\":[]\n",
    "                               }\n",
    "                    \"atletas\":[]\n",
    "                }\n",
    "template.render(dados_pagina)"
   ]
  }
 ],
 "metadata": {
  "kernelspec": {
   "display_name": "Python 3",
   "language": "python",
   "name": "python3"
  },
  "language_info": {
   "codemirror_mode": {
    "name": "ipython",
    "version": 3
   },
   "file_extension": ".py",
   "mimetype": "text/x-python",
   "name": "python",
   "nbconvert_exporter": "python",
   "pygments_lexer": "ipython3",
   "version": "3.6.9"
  }
 },
 "nbformat": 4,
 "nbformat_minor": 2
}
