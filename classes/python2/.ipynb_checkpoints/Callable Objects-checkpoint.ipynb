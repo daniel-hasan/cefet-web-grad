{
 "cells": [
  {
   "cell_type": "code",
   "execution_count": null,
   "metadata": {},
   "outputs": [],
   "source": [
    "class Polinomio:    \n",
    "    def __init__(self, coeficientes):\n",
    "        self.coeficientes = coeficientes\n",
    "        self.expoente = expoente\n",
    "\n",
    "    def __call__(self, x):\n",
    "        return self.coeficiente*x**expoente\n",
    "\n",
    "class Polinomio:\n",
    "    def __init__(self,num_termos):\n",
    "        "
   ]
  }
 ],
 "metadata": {
  "kernelspec": {
   "display_name": "Python 3",
   "language": "python",
   "name": "python3"
  },
  "language_info": {
   "codemirror_mode": {
    "name": "ipython",
    "version": 3
   },
   "file_extension": ".py",
   "mimetype": "text/x-python",
   "name": "python",
   "nbconvert_exporter": "python",
   "pygments_lexer": "ipython3",
   "version": "3.6.9"
  }
 },
 "nbformat": 4,
 "nbformat_minor": 2
}
