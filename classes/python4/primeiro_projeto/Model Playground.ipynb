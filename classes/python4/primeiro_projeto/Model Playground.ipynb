{
 "cells": [
  {
   "cell_type": "code",
   "execution_count": 1,
   "metadata": {},
   "outputs": [],
   "source": [
    "import os\n",
    "import django\n",
    "os.environ.setdefault(\"DJANGO_SETTINGS_MODULE\", \"primeiro_projeto.settings\")\n",
    "\n",
    "django.setup()"
   ]
  },
  {
   "cell_type": "code",
   "execution_count": 3,
   "metadata": {},
   "outputs": [],
   "source": [
    "from django import forms\n",
    "class PessoaForm(forms.Form):\n",
    "    nome = forms.CharField(label='Nome:', max_length=100)\n",
    "    data_nascimento = forms.DateField(label=\"Data Nascimento\")"
   ]
  },
  {
   "cell_type": "code",
   "execution_count": 5,
   "metadata": {},
   "outputs": [
    {
     "name": "stdout",
     "output_type": "stream",
     "text": [
      "Erros 1: <ul class=\"errorlist\"><li>nome<ul class=\"errorlist\"><li>This field is required.</li></ul></li><li>data_nascimento<ul class=\"errorlist\"><li>Enter a valid date.</li></ul></li></ul> is valid? False\n"
     ]
    }
   ],
   "source": [
    "hasan = PessoaForm({\"nome\":\"\",\"data_nascimento\":\"oioi\"})\n",
    "print(f\"Erros 1: {hasan.errors} is valid? {hasan.is_valid()}\")\n",
    "\n"
   ]
  },
  {
   "cell_type": "code",
   "execution_count": 6,
   "metadata": {},
   "outputs": [
    {
     "data": {
      "text/plain": [
       "{'data_nascimento': ['Enter a valid date.'],\n",
       " 'nome': ['This field is required.']}"
      ]
     },
     "execution_count": 6,
     "metadata": {},
     "output_type": "execute_result"
    }
   ],
   "source": [
    "hasan.errors"
   ]
  },
  {
   "cell_type": "code",
   "execution_count": 8,
   "metadata": {},
   "outputs": [
    {
     "name": "stdout",
     "output_type": "stream",
     "text": [
      "Erros 2:  is valid? True\n",
      "Cleaned_data: {'nome': 'Daniel Hasan', 'data_nascimento': datetime.date(1984, 4, 14)}\n"
     ]
    }
   ],
   "source": [
    "\n",
    "teste_2 = PessoaForm({\"nome\":\"Daniel Hasan\",\"data_nascimento\":\"1984-04-14\"})\n",
    "print(f\"Erros 2: {teste_2.errors} is valid? {teste_2.is_valid()}\")\n",
    "\n",
    "print(f\"Cleaned_data: {teste_2.cleaned_data}\")\n"
   ]
  },
  {
   "cell_type": "code",
   "execution_count": 12,
   "metadata": {},
   "outputs": [
    {
     "data": {
      "text/plain": [
       "'<p><label for=\"id_nome\">Nome:</label> <input type=\"text\" name=\"nome\" value=\"Daniel Hasan\" maxlength=\"100\" required id=\"id_nome\"></p>\\n<p><label for=\"id_data_nascimento\">Data Nascimento:</label> <input type=\"text\" name=\"data_nascimento\" value=\"1984-04-14\" required id=\"id_data_nascimento\"></p>'"
      ]
     },
     "execution_count": 12,
     "metadata": {},
     "output_type": "execute_result"
    }
   ],
   "source": [
    "teste_2.as_p()"
   ]
  },
  {
   "cell_type": "code",
   "execution_count": 3,
   "metadata": {},
   "outputs": [],
   "source": [
    "from app_projeto.views import PessoaForm\n",
    "dados_recebidos = {\"nome\":\"Hasan\",\"data_nascimento\":\"1990-02-20\"}\n",
    "form = PessoaForm(dados_recebidos)"
   ]
  },
  {
   "cell_type": "code",
   "execution_count": 10,
   "metadata": {},
   "outputs": [],
   "source": [
    "form.instance.save()"
   ]
  },
  {
   "cell_type": "code",
   "execution_count": 22,
   "metadata": {},
   "outputs": [
    {
     "data": {
      "text/plain": [
       "<QuerySet [<Pessoa: Hasan Dalip - 1990-02-20>]>"
      ]
     },
     "execution_count": 22,
     "metadata": {},
     "output_type": "execute_result"
    }
   ],
   "source": [
    "from app_projeto.models import Pessoa\n",
    "Pessoa.objects.all()"
   ]
  },
  {
   "cell_type": "code",
   "execution_count": 15,
   "metadata": {},
   "outputs": [],
   "source": [
    "instancia = Pessoa.objects.all()[0]\n",
    "dados_recebidos = {\"nome\":\"Hasan Dalip\",\"data_nascimento\":\"1990-02-20\"}\n",
    "form = PessoaForm(dados_recebidos,instance=instancia)"
   ]
  },
  {
   "cell_type": "code",
   "execution_count": 21,
   "metadata": {},
   "outputs": [],
   "source": [
    "form.instance.save()"
   ]
  }
 ],
 "metadata": {
  "kernelspec": {
   "display_name": "Python 3",
   "language": "python",
   "name": "python3"
  },
  "language_info": {
   "codemirror_mode": {
    "name": "ipython",
    "version": 3
   },
   "file_extension": ".py",
   "mimetype": "text/x-python",
   "name": "python",
   "nbconvert_exporter": "python",
   "pygments_lexer": "ipython3",
   "version": "3.6.9"
  }
 },
 "nbformat": 4,
 "nbformat_minor": 2
}
