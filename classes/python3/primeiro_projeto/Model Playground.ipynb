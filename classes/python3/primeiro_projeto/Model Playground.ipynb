{
 "cells": [
  {
   "cell_type": "code",
   "execution_count": 1,
   "metadata": {},
   "outputs": [],
   "source": [
    "import os\n",
    "import django\n",
    "os.environ.setdefault(\"DJANGO_SETTINGS_MODULE\", \"primeiro_projeto.settings\")\n",
    "\n",
    "django.setup()"
   ]
  },
  {
   "cell_type": "code",
   "execution_count": 3,
   "metadata": {},
   "outputs": [],
   "source": [
    "from app_projeto.models import Tesouro"
   ]
  },
  {
   "cell_type": "code",
   "execution_count": 4,
   "metadata": {},
   "outputs": [],
   "source": [
    "t1 = Tesouro(nome=\"Moedas de ouro\",quantidade=4, valor=2.4)\n",
    "t1.save()"
   ]
  },
  {
   "cell_type": "code",
   "execution_count": 5,
   "metadata": {},
   "outputs": [],
   "source": [
    "rum = Tesouro.objects.create(nome=\"Barril de rum\",\\\n",
    "                        quantidade=3,valor=343,img_tesouro=\"rum.png\")"
   ]
  },
  {
   "cell_type": "code",
   "execution_count": 6,
   "metadata": {},
   "outputs": [],
   "source": [
    "lista_tesouros = Tesouro.objects.bulk_create([\\\n",
    "                Tesouro(nome=\"Coroa\",quantidade=1,\\\n",
    "                        valor=23.2,img_tesouro=\"coroa.png\"),\\\n",
    "                Tesouro(nome=\"Calice\",quantidade=3,\\\n",
    "                        valor=13.2,img_tesouro=\"calice.png\")\\\n",
    "                        ])"
   ]
  },
  {
   "cell_type": "code",
   "execution_count": 21,
   "metadata": {},
   "outputs": [],
   "source": [
    "cproa_lina,inseriu = Tesouro.objects.get_or_create(nome=\"Coroa Linda\",quantidade=1, valor=23.2)"
   ]
  },
  {
   "cell_type": "code",
   "execution_count": 37,
   "metadata": {},
   "outputs": [
    {
     "data": {
      "text/plain": [
       "[(1, 'Moedas de ouro', 4),\n",
       " (2, 'Barril de rum', 3),\n",
       " (3, 'Coroa', 1),\n",
       " (4, 'Calice', 3),\n",
       " (5, 'Coroa Linda', 1)]"
      ]
     },
     "execution_count": 37,
     "metadata": {},
     "output_type": "execute_result"
    }
   ],
   "source": [
    "list(Tesouro.objects.all().values_list(\"id\",\"nome\",\"quantidade\").distinct())"
   ]
  },
  {
   "cell_type": "code",
   "execution_count": 14,
   "metadata": {},
   "outputs": [
    {
     "name": "stdout",
     "output_type": "stream",
     "text": [
      "Tesouro: Moedas de ouro quantidade: 4 R$ 2.40  Total R$ 9.60000000000000 16\n"
     ]
    }
   ],
   "source": [
    "from django.db.models import F,ExpressionWrapper,DecimalField\n",
    "\n",
    "tipo_campo_calculado = DecimalField(max_digits=10, decimal_places=2, blank=True)\n",
    "\n",
    "expressao_valor_total = ExpressionWrapper(F('valor')*F('quantidade'), output_field=tipo_campo_calculado)\n",
    "expressao_qtd_quadrado = ExpressionWrapper(F('quantidade')*F('quantidade'), output_field=tipo_campo_calculado)\n",
    "\n",
    "lista = Tesouro.objects.annotate(total=expressao_valor_total, qtd_quadrado=expressao_qtd_quadrado)\n",
    "print(f\"Tesouro: {lista[0]} Total R$ {lista[0].total} {lista[0].qtd_quadrado}\")"
   ]
  },
  {
   "cell_type": "code",
   "execution_count": 15,
   "metadata": {},
   "outputs": [
    {
     "data": {
      "text/plain": [
       "{'quantidade__sum': 12}"
      ]
     },
     "execution_count": 15,
     "metadata": {},
     "output_type": "execute_result"
    }
   ],
   "source": [
    "from django.db.models import Sum\n",
    "Tesouro.objects.aggregate(Sum(\"quantidade\"))"
   ]
  },
  {
   "cell_type": "code",
   "execution_count": 18,
   "metadata": {},
   "outputs": [
    {
     "data": {
      "text/plain": [
       "<QuerySet [{'quantidade': 1, 'valor__avg': Decimal('23.2000000000000')}, {'quantidade': 3, 'valor__avg': Decimal('178.100000000000')}, {'quantidade': 4, 'valor__avg': Decimal('2.40000000000000')}]>"
      ]
     },
     "execution_count": 18,
     "metadata": {},
     "output_type": "execute_result"
    }
   ],
   "source": [
    "from django.db.models import Avg\n",
    "Tesouro.objects.values(\"quantidade\").annotate(Avg(\"valor\"))"
   ]
  },
  {
   "cell_type": "code",
   "execution_count": 25,
   "metadata": {},
   "outputs": [],
   "source": [
    "from app_projeto.models import *\n",
    "bloguinho = Blog.objects.create(nome=\"Bloguinho\",sobre=\"Este é um blog\")\n",
    "\n",
    "autores = [Author(nome=\"hasan3\",email=\"hasan@cefetmg.br\"),\n",
    "                                      Author(nome=\"Alice4\",email=\"alice@email.com\"),\n",
    "                                     Author(nome=\"Bob5\",email=\"bob@email.com\")]\n",
    "\n",
    "#for autor in autores:\n",
    "#  autor.save()"
   ]
  },
  {
   "cell_type": "code",
   "execution_count": 26,
   "metadata": {},
   "outputs": [],
   "source": [
    "from datetime import datetime\n",
    "posts = [Post(blog=bloguinho,titulo=\"Meu primeiro post 4\",rating=10, texto=\"la\",data_publicacao=datetime.now()),\n",
    "        Post(blog=bloguinho,titulo=\"Meu segundo post 4\",rating=10, texto=\"la2\",data_publicacao=datetime.now()),\n",
    "        Post(blog=bloguinho,titulo=\"Meu terceiro post 4\",rating=10, texto=\"la3\",data_publicacao=datetime.now()),]\n",
    "\n",
    "for post in posts:\n",
    "    post.save()"
   ]
  },
  {
   "cell_type": "code",
   "execution_count": 27,
   "metadata": {},
   "outputs": [
    {
     "ename": "ValueError",
     "evalue": "Cannot add \"<Author: hasan3>\": instance is on database \"default\", value is on database \"None\"",
     "output_type": "error",
     "traceback": [
      "\u001b[0;31m---------------------------------------------------------------------------\u001b[0m",
      "\u001b[0;31mValueError\u001b[0m                                Traceback (most recent call last)",
      "\u001b[0;32m<ipython-input-27-128513696c89>\u001b[0m in \u001b[0;36m<module>\u001b[0;34m()\u001b[0m\n\u001b[0;32m----> 1\u001b[0;31m \u001b[0mposts\u001b[0m\u001b[0;34m[\u001b[0m\u001b[0;36m0\u001b[0m\u001b[0;34m]\u001b[0m\u001b[0;34m.\u001b[0m\u001b[0mautores\u001b[0m\u001b[0;34m.\u001b[0m\u001b[0madd\u001b[0m\u001b[0;34m(\u001b[0m\u001b[0mautores\u001b[0m\u001b[0;34m[\u001b[0m\u001b[0;36m0\u001b[0m\u001b[0;34m]\u001b[0m\u001b[0;34m)\u001b[0m\u001b[0;34m\u001b[0m\u001b[0;34m\u001b[0m\u001b[0m\n\u001b[0m\u001b[1;32m      2\u001b[0m \u001b[0mposts\u001b[0m\u001b[0;34m[\u001b[0m\u001b[0;36m1\u001b[0m\u001b[0;34m]\u001b[0m\u001b[0;34m.\u001b[0m\u001b[0mautores\u001b[0m\u001b[0;34m.\u001b[0m\u001b[0madd\u001b[0m\u001b[0;34m(\u001b[0m\u001b[0mautores\u001b[0m\u001b[0;34m[\u001b[0m\u001b[0;36m1\u001b[0m\u001b[0;34m]\u001b[0m\u001b[0;34m)\u001b[0m\u001b[0;34m\u001b[0m\u001b[0;34m\u001b[0m\u001b[0m\n\u001b[1;32m      3\u001b[0m \u001b[0mposts\u001b[0m\u001b[0;34m[\u001b[0m\u001b[0;36m1\u001b[0m\u001b[0;34m]\u001b[0m\u001b[0;34m.\u001b[0m\u001b[0mautores\u001b[0m\u001b[0;34m.\u001b[0m\u001b[0madd\u001b[0m\u001b[0;34m(\u001b[0m\u001b[0mautores\u001b[0m\u001b[0;34m[\u001b[0m\u001b[0;36m2\u001b[0m\u001b[0;34m]\u001b[0m\u001b[0;34m)\u001b[0m\u001b[0;34m\u001b[0m\u001b[0;34m\u001b[0m\u001b[0m\n\u001b[1;32m      4\u001b[0m \u001b[0mposts\u001b[0m\u001b[0;34m[\u001b[0m\u001b[0;36m2\u001b[0m\u001b[0;34m]\u001b[0m\u001b[0;34m.\u001b[0m\u001b[0mautores\u001b[0m\u001b[0;34m.\u001b[0m\u001b[0madd\u001b[0m\u001b[0;34m(\u001b[0m\u001b[0mautores\u001b[0m\u001b[0;34m[\u001b[0m\u001b[0;36m2\u001b[0m\u001b[0;34m]\u001b[0m\u001b[0;34m)\u001b[0m\u001b[0;34m\u001b[0m\u001b[0;34m\u001b[0m\u001b[0m\n",
      "\u001b[0;32m/home/profhasan/.local/lib/python3.6/site-packages/django/db/models/fields/related_descriptors.py\u001b[0m in \u001b[0;36madd\u001b[0;34m(self, through_defaults, *objs)\u001b[0m\n\u001b[1;32m    944\u001b[0m                 self._add_items(\n\u001b[1;32m    945\u001b[0m                     \u001b[0mself\u001b[0m\u001b[0;34m.\u001b[0m\u001b[0msource_field_name\u001b[0m\u001b[0;34m,\u001b[0m \u001b[0mself\u001b[0m\u001b[0;34m.\u001b[0m\u001b[0mtarget_field_name\u001b[0m\u001b[0;34m,\u001b[0m \u001b[0;34m*\u001b[0m\u001b[0mobjs\u001b[0m\u001b[0;34m,\u001b[0m\u001b[0;34m\u001b[0m\u001b[0;34m\u001b[0m\u001b[0m\n\u001b[0;32m--> 946\u001b[0;31m                     \u001b[0mthrough_defaults\u001b[0m\u001b[0;34m=\u001b[0m\u001b[0mthrough_defaults\u001b[0m\u001b[0;34m,\u001b[0m\u001b[0;34m\u001b[0m\u001b[0;34m\u001b[0m\u001b[0m\n\u001b[0m\u001b[1;32m    947\u001b[0m                 )\n\u001b[1;32m    948\u001b[0m                 \u001b[0;31m# If this is a symmetrical m2m relation to self, add the mirror\u001b[0m\u001b[0;34m\u001b[0m\u001b[0;34m\u001b[0m\u001b[0;34m\u001b[0m\u001b[0m\n",
      "\u001b[0;32m/home/profhasan/.local/lib/python3.6/site-packages/django/db/models/fields/related_descriptors.py\u001b[0m in \u001b[0;36m_add_items\u001b[0;34m(self, source_field_name, target_field_name, through_defaults, *objs)\u001b[0m\n\u001b[1;32m   1117\u001b[0m             \u001b[0;31m# If there aren't any objects, there is nothing to do.\u001b[0m\u001b[0;34m\u001b[0m\u001b[0;34m\u001b[0m\u001b[0;34m\u001b[0m\u001b[0m\n\u001b[1;32m   1118\u001b[0m             \u001b[0;32mif\u001b[0m \u001b[0mobjs\u001b[0m\u001b[0;34m:\u001b[0m\u001b[0;34m\u001b[0m\u001b[0;34m\u001b[0m\u001b[0m\n\u001b[0;32m-> 1119\u001b[0;31m                 \u001b[0mtarget_ids\u001b[0m \u001b[0;34m=\u001b[0m \u001b[0mself\u001b[0m\u001b[0;34m.\u001b[0m\u001b[0m_get_target_ids\u001b[0m\u001b[0;34m(\u001b[0m\u001b[0mtarget_field_name\u001b[0m\u001b[0;34m,\u001b[0m \u001b[0mobjs\u001b[0m\u001b[0;34m)\u001b[0m\u001b[0;34m\u001b[0m\u001b[0;34m\u001b[0m\u001b[0m\n\u001b[0m\u001b[1;32m   1120\u001b[0m                 \u001b[0mdb\u001b[0m \u001b[0;34m=\u001b[0m \u001b[0mrouter\u001b[0m\u001b[0;34m.\u001b[0m\u001b[0mdb_for_write\u001b[0m\u001b[0;34m(\u001b[0m\u001b[0mself\u001b[0m\u001b[0;34m.\u001b[0m\u001b[0mthrough\u001b[0m\u001b[0;34m,\u001b[0m \u001b[0minstance\u001b[0m\u001b[0;34m=\u001b[0m\u001b[0mself\u001b[0m\u001b[0;34m.\u001b[0m\u001b[0minstance\u001b[0m\u001b[0;34m)\u001b[0m\u001b[0;34m\u001b[0m\u001b[0;34m\u001b[0m\u001b[0m\n\u001b[1;32m   1121\u001b[0m                 \u001b[0mcan_ignore_conflicts\u001b[0m\u001b[0;34m,\u001b[0m \u001b[0mmust_send_signals\u001b[0m\u001b[0;34m,\u001b[0m \u001b[0mcan_fast_add\u001b[0m \u001b[0;34m=\u001b[0m \u001b[0mself\u001b[0m\u001b[0;34m.\u001b[0m\u001b[0m_get_add_plan\u001b[0m\u001b[0;34m(\u001b[0m\u001b[0mdb\u001b[0m\u001b[0;34m,\u001b[0m \u001b[0msource_field_name\u001b[0m\u001b[0;34m)\u001b[0m\u001b[0;34m\u001b[0m\u001b[0;34m\u001b[0m\u001b[0m\n",
      "\u001b[0;32m/home/profhasan/.local/lib/python3.6/site-packages/django/db/models/fields/related_descriptors.py\u001b[0m in \u001b[0;36m_get_target_ids\u001b[0;34m(self, target_field_name, objs)\u001b[0m\n\u001b[1;32m   1049\u001b[0m                             \u001b[0;34m'Cannot add \"%r\": instance is on database \"%s\", '\u001b[0m\u001b[0;34m\u001b[0m\u001b[0;34m\u001b[0m\u001b[0m\n\u001b[1;32m   1050\u001b[0m                             \u001b[0;34m'value is on database \"%s\"'\u001b[0m \u001b[0;34m%\u001b[0m\u001b[0;34m\u001b[0m\u001b[0;34m\u001b[0m\u001b[0m\n\u001b[0;32m-> 1051\u001b[0;31m                             \u001b[0;34m(\u001b[0m\u001b[0mobj\u001b[0m\u001b[0;34m,\u001b[0m \u001b[0mself\u001b[0m\u001b[0;34m.\u001b[0m\u001b[0minstance\u001b[0m\u001b[0;34m.\u001b[0m\u001b[0m_state\u001b[0m\u001b[0;34m.\u001b[0m\u001b[0mdb\u001b[0m\u001b[0;34m,\u001b[0m \u001b[0mobj\u001b[0m\u001b[0;34m.\u001b[0m\u001b[0m_state\u001b[0m\u001b[0;34m.\u001b[0m\u001b[0mdb\u001b[0m\u001b[0;34m)\u001b[0m\u001b[0;34m\u001b[0m\u001b[0;34m\u001b[0m\u001b[0m\n\u001b[0m\u001b[1;32m   1052\u001b[0m                         )\n\u001b[1;32m   1053\u001b[0m                     \u001b[0mtarget_id\u001b[0m \u001b[0;34m=\u001b[0m \u001b[0mtarget_field\u001b[0m\u001b[0;34m.\u001b[0m\u001b[0mget_foreign_related_value\u001b[0m\u001b[0;34m(\u001b[0m\u001b[0mobj\u001b[0m\u001b[0;34m)\u001b[0m\u001b[0;34m[\u001b[0m\u001b[0;36m0\u001b[0m\u001b[0;34m]\u001b[0m\u001b[0;34m\u001b[0m\u001b[0;34m\u001b[0m\u001b[0m\n",
      "\u001b[0;31mValueError\u001b[0m: Cannot add \"<Author: hasan3>\": instance is on database \"default\", value is on database \"None\""
     ]
    }
   ],
   "source": [
    "posts[0].autores.add(autores[0])\n",
    "posts[1].autores.add(autores[1])\n",
    "posts[1].autores.add(autores[2])\n",
    "posts[2].autores.add(autores[2])"
   ]
  },
  {
   "cell_type": "code",
   "execution_count": 28,
   "metadata": {},
   "outputs": [
    {
     "data": {
      "text/plain": [
       "<QuerySet [{'blog__nome': 'Bloguinho', 'titulo': 'Meu primeiro post'}, {'blog__nome': 'Bloguinho', 'titulo': 'Meu segundo post'}, {'blog__nome': 'Bloguinho', 'titulo': 'Meu terceiro post'}, {'blog__nome': 'Bloguinho', 'titulo': 'Meu primeiro post 4'}, {'blog__nome': 'Bloguinho', 'titulo': 'Meu segundo post 4'}, {'blog__nome': 'Bloguinho', 'titulo': 'Meu terceiro post 4'}]>"
      ]
     },
     "execution_count": 28,
     "metadata": {},
     "output_type": "execute_result"
    }
   ],
   "source": [
    "Post.objects.values(\"blog__nome\",\"titulo\")"
   ]
  },
  {
   "cell_type": "code",
   "execution_count": 47,
   "metadata": {},
   "outputs": [
    {
     "data": {
      "text/plain": [
       "2"
      ]
     },
     "execution_count": 47,
     "metadata": {},
     "output_type": "execute_result"
    }
   ],
   "source": [
    "from django.db.models import Count\n",
    "autores = Author.objects.annotate(num_posts=Count('post'))\n",
    "autores[2].num_posts"
   ]
  }
 ],
 "metadata": {
  "kernelspec": {
   "display_name": "Python 3",
   "language": "python",
   "name": "python3"
  },
  "language_info": {
   "codemirror_mode": {
    "name": "ipython",
    "version": 3
   },
   "file_extension": ".py",
   "mimetype": "text/x-python",
   "name": "python",
   "nbconvert_exporter": "python",
   "pygments_lexer": "ipython3",
   "version": "3.6.9"
  }
 },
 "nbformat": 4,
 "nbformat_minor": 2
}
