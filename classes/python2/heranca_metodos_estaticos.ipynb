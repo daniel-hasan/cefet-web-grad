{
 "cells": [
  {
   "cell_type": "code",
   "execution_count": 8,
   "metadata": {},
   "outputs": [],
   "source": [
    "class Pessoa():\n",
    "    def __init__(self, nome):\n",
    "        self.nome = nome\n",
    "    def __str__(self):\n",
    "        return \"Nome: \"+self.nome\n",
    "    def __repr__(self):\n",
    "        return str(self)\n",
    "    \n",
    "    @classmethod\n",
    "    def instancia_pessoas(cls,n):\n",
    "        pessoas = []\n",
    "        for i in range(n):\n",
    "          pessoas.append(cls(\"Pessoa \"+str(i)))\n",
    "        return pessoas\n",
    "    @staticmethod\n",
    "    def x():\n",
    "        print(\"Oi\")\n",
    "    @classmethod\n",
    "    def y(cls):\n",
    "        print(str(cls))\n",
    "        \n",
    "class Funcionario(Pessoa):\n",
    "    def __init__(self,nome,salario=1000):\n",
    "        super().__init__(nome)\n",
    "        self.salario = salario\n",
    "\n",
    "    def __str__(self):\n",
    "        return f\"{super().__str__()} Salario R$ {self.salario}\""
   ]
  },
  {
   "cell_type": "code",
   "execution_count": 2,
   "metadata": {},
   "outputs": [
    {
     "name": "stdout",
     "output_type": "stream",
     "text": [
      "<class '__main__.Funcionario'>\n"
     ]
    }
   ],
   "source": [
    "Funcionario.y()"
   ]
  },
  {
   "cell_type": "code",
   "execution_count": 3,
   "metadata": {},
   "outputs": [
    {
     "name": "stdout",
     "output_type": "stream",
     "text": [
      "<class '__main__.Pessoa'>\n"
     ]
    }
   ],
   "source": [
    "Pessoa.y()"
   ]
  },
  {
   "cell_type": "code",
   "execution_count": 9,
   "metadata": {},
   "outputs": [
    {
     "data": {
      "text/plain": [
       "[Nome: Pessoa 0 Salario R$ 1000, Nome: Pessoa 1 Salario R$ 1000]"
      ]
     },
     "execution_count": 9,
     "metadata": {},
     "output_type": "execute_result"
    }
   ],
   "source": [
    "Funcionario.instancia_pessoas(2)"
   ]
  },
  {
   "cell_type": "code",
   "execution_count": 10,
   "metadata": {},
   "outputs": [
    {
     "data": {
      "text/plain": [
       "[Nome: Pessoa 0, Nome: Pessoa 1]"
      ]
     },
     "execution_count": 10,
     "metadata": {},
     "output_type": "execute_result"
    }
   ],
   "source": [
    "Pessoa.instancia_pessoas(2)"
   ]
  }
 ],
 "metadata": {
  "kernelspec": {
   "display_name": "Python 3",
   "language": "python",
   "name": "python3"
  },
  "language_info": {
   "codemirror_mode": {
    "name": "ipython",
    "version": 3
   },
   "file_extension": ".py",
   "mimetype": "text/x-python",
   "name": "python",
   "nbconvert_exporter": "python",
   "pygments_lexer": "ipython3",
   "version": "3.6.9"
  }
 },
 "nbformat": 4,
 "nbformat_minor": 2
}
